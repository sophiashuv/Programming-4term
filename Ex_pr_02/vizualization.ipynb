{
 "metadata": {
  "language_info": {
   "codemirror_mode": {
    "name": "ipython",
    "version": 3
   },
   "file_extension": ".py",
   "mimetype": "text/x-python",
   "name": "python",
   "nbconvert_exporter": "python",
   "pygments_lexer": "ipython3",
   "version": "3.7.0"
  },
  "orig_nbformat": 2,
  "kernelspec": {
   "name": "python3",
   "display_name": "Python 3",
   "language": "python"
  }
 },
 "nbformat": 4,
 "nbformat_minor": 2,
 "cells": [
  {
   "cell_type": "code",
   "execution_count": 161,
   "metadata": {},
   "outputs": [],
   "source": [
    "import xml.etree.ElementTree as ET\n",
    "import matplotlib.pyplot as plt\n",
    "import pandas as pd\n",
    "import ipywidgets as widgets\n",
    "from ipywidgets import interact, interactive, fixed, interact_manual\n",
    "import csv\n",
    "import numpy as np"
   ]
  },
  {
   "cell_type": "code",
   "execution_count": 162,
   "metadata": {},
   "outputs": [],
   "source": [
    "def draw_histogram(x, y, x_label, y_label, title, line=True): \n",
    "    # fig, ax = plt.subplots(figsize=(10, 7))\n",
    "    fig, ax = plt.subplots()\n",
    "    if line:\n",
    "        plt.plot(x, y, 'r--')\n",
    "    ax.bar(x, y, color='#5499C7', width=0.5, edgecolor='#154360', zorder=3)\n",
    "    ax.set_title(title, color='black', size=25, fontweight='bold', pad=50)\n",
    "    ax.set_ylabel(y_label, size=15, fontweight='bold')\n",
    "    ax.set_xlabel(x_label, size=15, fontweight='bold')\n",
    "    ax.tick_params(axis='x', rotation=70, direction='inout', pad=10, labelsize='large', length=10, width=2)\n",
    "    ax.tick_params(axis='y', direction='inout', pad=10, labelsize='large', length=10, width=2)\n",
    "    ax.patch.set_facecolor('#B0C4DE')\n",
    "    fig.patch.set_facecolor('#154360')  \n",
    "    plt.grid(zorder=1)       \n",
    "    plt.show()"
   ]
  },
  {
   "cell_type": "code",
   "execution_count": 163,
   "metadata": {},
   "outputs": [],
   "source": [
    "def read_xml(file_path):\n",
    "    tree = ET.parse(file_path)\n",
    "    root = tree.getroot()\n",
    "    res = dict()\n",
    "    for child in root:\n",
    "        service = child.get('Name')\n",
    "        res[service] = dict()\n",
    "        for ch in child:\n",
    "            date, price = ch.get('Day'), float(ch.findall(\".Price\")[0].text)\n",
    "            res[service][date] = price\n",
    "        res[service] = dict(sorted(res[service].items()))\n",
    "    return res"
   ]
  },
  {
   "cell_type": "code",
   "execution_count": 164,
   "metadata": {},
   "outputs": [
    {
     "output_type": "display_data",
     "data": {
      "text/plain": "interactive(children=(Dropdown(description='service', options=('Service6', 'Service5', 'Service4', 'Service3',…",
      "application/vnd.jupyter.widget-view+json": {
       "version_major": 2,
       "version_minor": 0,
       "model_id": "44bc459ecf5743c9bb29f8af70eb6120"
      }
     },
     "metadata": {}
    }
   ],
   "source": [
    "\n",
    "res = read_xml(\"task_3.XML\")\n",
    "services = set(res.keys())\n",
    "\n",
    "def task4(service):\n",
    "    draw_histogram(list(res[service].keys()), list(res[service].values()), \"Date\", \"Price\", service, line=False)\n",
    "  \n",
    "interact(task4, service=services);\n"
   ]
  }
 ]
}